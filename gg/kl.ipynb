{
 "cells": [
  {
   "cell_type": "code",
   "execution_count": 1,
   "metadata": {},
   "outputs": [
    {
     "name": "stdout",
     "output_type": "stream",
     "text": [
      "True\n",
      "False\n"
     ]
    }
   ],
   "source": [
    "import re\n",
    "\n",
    "def is_allowed_specific_char(string):\n",
    "    charRe = re.compile(r'[^a-zA-Z0-9.]')\n",
    "    string = charRe.search(string)\n",
    "    return not bool(string)\n",
    "\n",
    "print(is_allowed_specific_char(\"ABCDEFabcdef123450\")) \n",
    "print(is_allowed_specific_char(\"*&%@#!}{\"))\n"
   ]
  },
  {
   "cell_type": "code",
   "execution_count": null,
   "metadata": {},
   "outputs": [],
   "source": []
  },
  {
   "cell_type": "code",
   "execution_count": 2,
   "metadata": {},
   "outputs": [
    {
     "name": "stdout",
     "output_type": "stream",
     "text": [
      "<re.Match object; span=(0, 6), match='Python'>\n",
      "None\n"
     ]
    }
   ],
   "source": [
    "import re\n",
    "\n",
    "text = \"Python тілі өте танымал.\"\n",
    "pattern = re.compile(r'Python')\n",
    "\n",
    "match = pattern.match(text)\n",
    "print(match)  # <re.Match object; span=(0, 6), match='Python'>\n",
    "\n",
    "match2 = pattern.match(\"Мен Python үйреніп жүрмін.\")\n",
    "print(match2)  # None (себебі жол 'Python'-мен басталмайды)\n"
   ]
  },
  {
   "cell_type": "code",
   "execution_count": 3,
   "metadata": {},
   "outputs": [
    {
     "name": "stdout",
     "output_type": "stream",
     "text": [
      "120\n"
     ]
    }
   ],
   "source": [
    "from functools import reduce\n",
    "numbers = [1,2,3,4,5]\n",
    "pattern = reduce(lambda x,y:x*y,numbers)\n",
    "print(pattern)"
   ]
  },
  {
   "cell_type": "code",
   "execution_count": 5,
   "metadata": {},
   "outputs": [
    {
     "name": "stdout",
     "output_type": "stream",
     "text": [
      "2\n",
      "6\n"
     ]
    }
   ],
   "source": [
    "def san(s):\n",
    "    upper = sum(1 for char in s if char.isupper() )\n",
    "    lower = sum(1 for char in s if char.islower() )\n",
    "    return upper , lower\n",
    "\n",
    "text = input()\n",
    "upper , lower = san(text)\n",
    "print(upper)\n",
    "print(lower)\n",
    "\n",
    "    "
   ]
  },
  {
   "cell_type": "code",
   "execution_count": 8,
   "metadata": {},
   "outputs": [
    {
     "name": "stdout",
     "output_type": "stream",
     "text": [
      "False\n"
     ]
    }
   ],
   "source": [
    "import re\n",
    "def san(n):\n",
    "    pattern = 'ab*?'\n",
    "    if re.search(pattern , n):\n",
    "        return True\n",
    "    return False\n",
    "\n",
    "gg = input()\n",
    "print(san(gg))"
   ]
  },
  {
   "cell_type": "code",
   "execution_count": 16,
   "metadata": {},
   "outputs": [
    {
     "name": "stdout",
     "output_type": "stream",
     "text": [
      "False\n"
     ]
    }
   ],
   "source": [
    "def fff(g):\n",
    "    h = re.compile(r'[a-zA-Z0-9]')\n",
    "    s = h.search(g)\n",
    "    return not bool(s)\n",
    "\n",
    "text = input()\n",
    "print(fff(text))"
   ]
  },
  {
   "cell_type": "code",
   "execution_count": 27,
   "metadata": {},
   "outputs": [],
   "source": [
    "import re\n",
    "patterns = ['dog','fox','asd']\n",
    "text = \"sasojabdcs  csj llsfgbaem alibv\"\n",
    "for pattern in patterns:\n",
    "    if re.search(pattern,text):\n",
    "        print(f'matched: {pattern}')"
   ]
  },
  {
   "cell_type": "code",
   "execution_count": 29,
   "metadata": {},
   "outputs": [
    {
     "name": "stdout",
     "output_type": "stream",
     "text": [
      "03-01-2026\n"
     ]
    }
   ],
   "source": [
    "def er(dt):\n",
    "    return re.sub(r'(\\d{4})-(\\d{1,2})-(\\d{1,2})' , r'\\3-\\2-\\1',dt)\n",
    "\n",
    "f = \"2026-01-03\"\n",
    "print(er(f))"
   ]
  }
 ],
 "metadata": {
  "kernelspec": {
   "display_name": "Python 3",
   "language": "python",
   "name": "python3"
  },
  "language_info": {
   "codemirror_mode": {
    "name": "ipython",
    "version": 3
   },
   "file_extension": ".py",
   "mimetype": "text/x-python",
   "name": "python",
   "nbconvert_exporter": "python",
   "pygments_lexer": "ipython3",
   "version": "3.11.9"
  }
 },
 "nbformat": 4,
 "nbformat_minor": 2
}
