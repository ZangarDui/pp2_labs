{
 "cells": [
  {
   "cell_type": "code",
   "execution_count": 2,
   "metadata": {},
   "outputs": [
    {
     "name": "stdout",
     "output_type": "stream",
     "text": [
      "bugin:  2025-02-19\n",
      "5 kun burin 2025-02-14\n"
     ]
    }
   ],
   "source": [
    "from datetime import date, timedelta\n",
    "\n",
    "today = date.today()\n",
    "\n",
    "janadat = today  - timedelta(days = 5)\n",
    "\n",
    "print(\"bugin: \", today)\n",
    "print(\"5 kun burin\", janadat)"
   ]
  },
  {
   "cell_type": "code",
   "execution_count": 4,
   "metadata": {},
   "outputs": [
    {
     "name": "stdout",
     "output_type": "stream",
     "text": [
      "kewe 2025-02-18\n",
      "bugin 2025-02-19\n",
      "erten 2025-02-20\n"
     ]
    }
   ],
   "source": [
    "from datetime import date, timedelta \n",
    "\n",
    "today = date.today()\n",
    "yesterday = today - timedelta(days = 1)\n",
    "tomorrow = today + timedelta(days = 1)\n",
    "\n",
    "print(\"kewe\", yesterday)\n",
    "print(\"bugin\",today)\n",
    "print(\"erten\",tomorrow)\n",
    "\n"
   ]
  },
  {
   "cell_type": "code",
   "execution_count": 5,
   "metadata": {},
   "outputs": [
    {
     "name": "stdout",
     "output_type": "stream",
     "text": [
      "micros 2025-02-19 19:15:15.384687\n",
      "Микросекундсыз: 2025-02-19 19:15:15\n"
     ]
    }
   ],
   "source": [
    "from datetime import datetime\n",
    "\n",
    "now =datetime.now()\n",
    "\n",
    "new_now = now.replace(microsecond=0)\n",
    "\n",
    "\n",
    "print(\"micros\",now)\n",
    "print(\"Микросекундсыз:\", new_now)"
   ]
  },
  {
   "cell_type": "code",
   "execution_count": 6,
   "metadata": {},
   "outputs": [
    {
     "name": "stdout",
     "output_type": "stream",
     "text": [
      "Айырмашылық (секунд): 95400.0\n"
     ]
    }
   ],
   "source": [
    "from datetime import datetime\n",
    "\n",
    "\n",
    "date1 = datetime(2025, 2, 19, 12, 0, 0)  \n",
    "date2 = datetime(2025, 2, 20, 14, 30, 0)  \n",
    "\n",
    "\n",
    "difference = date2 - date1\n",
    "\n",
    "\n",
    "print(\"Айырмашылық (секунд):\", difference.total_seconds())"
   ]
  }
 ],
 "metadata": {
  "kernelspec": {
   "display_name": "Python 3",
   "language": "python",
   "name": "python3"
  },
  "language_info": {
   "codemirror_mode": {
    "name": "ipython",
    "version": 3
   },
   "file_extension": ".py",
   "mimetype": "text/x-python",
   "name": "python",
   "nbconvert_exporter": "python",
   "pygments_lexer": "ipython3",
   "version": "3.11.9"
  }
 },
 "nbformat": 4,
 "nbformat_minor": 2
}
