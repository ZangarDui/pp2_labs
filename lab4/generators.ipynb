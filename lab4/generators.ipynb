{
 "cells": [
  {
   "cell_type": "code",
   "execution_count": 1,
   "metadata": {},
   "outputs": [
    {
     "name": "stdout",
     "output_type": "stream",
     "text": [
      "1\n",
      "4\n",
      "9\n",
      "16\n",
      "25\n"
     ]
    }
   ],
   "source": [
    "def ser(n):\n",
    "    for i in range(1,n+1):\n",
    "        yield i * i \n",
    "\n",
    "N = int(input(\"N engz : \"))\n",
    "for square in ser(N):\n",
    "    print(square)"
   ]
  },
  {
   "cell_type": "code",
   "execution_count": 4,
   "metadata": {},
   "outputs": [
    {
     "name": "stdout",
     "output_type": "stream",
     "text": [
      "2,4,6,8,10\n"
     ]
    }
   ],
   "source": [
    "def gen(n):\n",
    "    for i in range(1,n+1):\n",
    "        if i%2==0:\n",
    "            yield i \n",
    "\n",
    "N = int(input(\"N engz: \"))\n",
    "\n",
    "print(\",\".join(str(num) for num in gen(N)))"
   ]
  },
  {
   "cell_type": "code",
   "execution_count": 5,
   "metadata": {},
   "outputs": [
    {
     "name": "stdout",
     "output_type": "stream",
     "text": [
      "12,24,36,48\n"
     ]
    }
   ],
   "source": [
    "def gen(n):\n",
    "    for i in range(1,n+1):\n",
    "        if i%3==0 and i%4==0:\n",
    "            yield i\n",
    "\n",
    "N = int(input(\"N engz: \"))\n",
    "print(\",\".join(str(num) for num in gen(N)))"
   ]
  },
  {
   "cell_type": "code",
   "execution_count": 6,
   "metadata": {},
   "outputs": [
    {
     "name": "stdout",
     "output_type": "stream",
     "text": [
      "16\n",
      "25\n",
      "36\n",
      "49\n",
      "64\n",
      "81\n"
     ]
    }
   ],
   "source": [
    "def squares(a,b):\n",
    "    for i in range(a,b+1):\n",
    "        yield i * i\n",
    "\n",
    "a = int(input(\"A engz\"))\n",
    "b = int(input(\"B engz\"))\n",
    "\n",
    "for square in squares(a,b):\n",
    "    print(square)"
   ]
  },
  {
   "cell_type": "code",
   "execution_count": 8,
   "metadata": {},
   "outputs": [
    {
     "name": "stdout",
     "output_type": "stream",
     "text": [
      "5\n",
      "4\n",
      "3\n",
      "2\n",
      "1\n",
      "0\n"
     ]
    }
   ],
   "source": [
    "def down(n):\n",
    "    for i in range(n , -1,-1):\n",
    "        yield i\n",
    "    \n",
    "N = int(input(\"N enlgz: \"))\n",
    "\n",
    "for num in down(N):\n",
    "    print(num)"
   ]
  }
 ],
 "metadata": {
  "kernelspec": {
   "display_name": "Python 3",
   "language": "python",
   "name": "python3"
  },
  "language_info": {
   "codemirror_mode": {
    "name": "ipython",
    "version": 3
   },
   "file_extension": ".py",
   "mimetype": "text/x-python",
   "name": "python",
   "nbconvert_exporter": "python",
   "pygments_lexer": "ipython3",
   "version": "3.11.9"
  }
 },
 "nbformat": 4,
 "nbformat_minor": 2
}
