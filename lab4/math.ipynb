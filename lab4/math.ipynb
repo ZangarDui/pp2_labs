{
 "cells": [
  {
   "cell_type": "code",
   "execution_count": 3,
   "metadata": {},
   "outputs": [
    {
     "name": "stdout",
     "output_type": "stream",
     "text": [
      "0.2617993877991494\n"
     ]
    }
   ],
   "source": [
    "import math\n",
    "\n",
    "def sss(san):\n",
    "    s = ( math.pi / 180 ) * san\n",
    "    return s\n",
    "\n",
    "user_input =float(input(\"san engiz\"))\n",
    "arr = sss(user_input)\n",
    "print(arr)\n",
    "\n"
   ]
  },
  {
   "cell_type": "code",
   "execution_count": 5,
   "metadata": {},
   "outputs": [
    {
     "name": "stdout",
     "output_type": "stream",
     "text": [
      "27.5\n"
     ]
    }
   ],
   "source": [
    "def audan(h,a,b):\n",
    "    s = (a+b)/2  * h \n",
    "    return s\n",
    "h = 5 \n",
    "a = 5\n",
    "b = 6\n",
    "print(audan(h,a,b))"
   ]
  },
  {
   "cell_type": "code",
   "execution_count": 3,
   "metadata": {},
   "outputs": [
    {
     "name": "stdout",
     "output_type": "stream",
     "text": [
      "The area of the polygon is :  625.00\n"
     ]
    }
   ],
   "source": [
    "import math\n",
    "\n",
    "def polygan_area(n, s):\n",
    "    if n < 3:\n",
    "        return \"Polygan kabyrgasi 3 ten kishi bolmaid\"\n",
    "    return (n * s ** 2) / (4 * math.tan(math.pi / n))\n",
    "\n",
    "n = int(input(\"Input number of sides : \"))\n",
    "s = float(input(\"Input the lenght of a side: \"))\n",
    "\n",
    "area = polygan_area(n, s)\n",
    "print(f\"The area of the polygon is : {area: .2f}\")"
   ]
  },
  {
   "cell_type": "code",
   "execution_count": 4,
   "metadata": {},
   "outputs": [
    {
     "name": "stdout",
     "output_type": "stream",
     "text": [
      "the are of the pralleogram is:  30.00\n"
     ]
    }
   ],
   "source": [
    "import math\n",
    "\n",
    "def paralleogram_area(base , height):\n",
    "    return base * height\n",
    "\n",
    "base = float(input(\"lenght of base: \"))\n",
    "height = float(input(\"Height of paralleogram: \"))\n",
    "\n",
    "area = paralleogram_area(base , height)\n",
    "print(f\"the are of the pralleogram is: {area : .2f}\")\n",
    "\n"
   ]
  }
 ],
 "metadata": {
  "kernelspec": {
   "display_name": "Python 3",
   "language": "python",
   "name": "python3"
  },
  "language_info": {
   "codemirror_mode": {
    "name": "ipython",
    "version": 3
   },
   "file_extension": ".py",
   "mimetype": "text/x-python",
   "name": "python",
   "nbconvert_exporter": "python",
   "pygments_lexer": "ipython3",
   "version": "3.11.9"
  }
 },
 "nbformat": 4,
 "nbformat_minor": 2
}
