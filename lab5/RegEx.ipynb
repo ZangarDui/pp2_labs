{
 "cells": [
  {
   "cell_type": "code",
   "execution_count": 3,
   "metadata": {},
   "outputs": [
    {
     "name": "stdout",
     "output_type": "stream",
     "text": [
      "faund a match\n"
     ]
    }
   ],
   "source": [
    "import re\n",
    "def sss(string):\n",
    "    patterns = 'ab*?'\n",
    "    if re.search(patterns,string):\n",
    "        return \"faund a match\"\n",
    "    return \"Not matched\"\n",
    "\n",
    "string = input(\"engz: \")\n",
    "print(sss(string))\n"
   ]
  },
  {
   "cell_type": "code",
   "execution_count": 10,
   "metadata": {},
   "outputs": [
    {
     "name": "stdout",
     "output_type": "stream",
     "text": [
      "found a match\n"
     ]
    }
   ],
   "source": [
    "def sss(text):\n",
    "    fer = 'ab{2,3}?'\n",
    "    if re.search(fer , text ):\n",
    "        return \"found a match\"\n",
    "    return \"Not match\"\n",
    "\n",
    "text = input(\"jol engz: \")\n",
    "print(sss(text))"
   ]
  },
  {
   "cell_type": "code",
   "execution_count": 4,
   "metadata": {},
   "outputs": [
    {
     "name": "stdout",
     "output_type": "stream",
     "text": [
      "False\n"
     ]
    }
   ],
   "source": [
    "import re\n",
    "def sss(string):\n",
    "    h = re.compile(r'^[a-z]+_[a-z]+$')\n",
    "    string = h.search(string)\n",
    "    return bool(string)\n",
    "\n",
    "ddd = input(\"engz: \")\n",
    "print(sss(ddd))\n"
   ]
  },
  {
   "cell_type": "code",
   "execution_count": 21,
   "metadata": {},
   "outputs": [
    {
     "name": "stdout",
     "output_type": "stream",
     "text": [
      "not okey\n"
     ]
    }
   ],
   "source": [
    "def sss(string):\n",
    "    d = r'^[A-B][a-z]+'\n",
    "    if re.search(d , string):\n",
    "        return \"okey\"\n",
    "    return \"not okey\"\n",
    "\n",
    "ddd = input(\"engz: \")\n",
    "print(sss(ddd))\n",
    "\n"
   ]
  },
  {
   "cell_type": "code",
   "execution_count": 14,
   "metadata": {},
   "outputs": [
    {
     "name": "stdout",
     "output_type": "stream",
     "text": [
      "False\n"
     ]
    }
   ],
   "source": [
    "def sss(string):\n",
    "    text = re.compile(r\".*[a-b]$\")\n",
    "    if text.match(string):\n",
    "        return True\n",
    "    else:\n",
    "        return False\n",
    "\n",
    "text = input(\"soz engz:\")\n",
    "print(sss(text))"
   ]
  },
  {
   "cell_type": "code",
   "execution_count": 25,
   "metadata": {},
   "outputs": [
    {
     "name": "stdout",
     "output_type": "stream",
     "text": [
      "red:::::dpa:::dfsijv::s\n"
     ]
    }
   ],
   "source": [
    "def fff(string):\n",
    "    return re.sub(r'[ ,.]',':',string)\n",
    "\n",
    "text = input(\"sozengz: \" )\n",
    "print(fff(text))\n",
    "    "
   ]
  },
  {
   "cell_type": "code",
   "execution_count": null,
   "metadata": {},
   "outputs": [],
   "source": [
    "def snake_to_camel(snake_str):\n",
    "    words = snake_str.split('_')  \n",
    "    camel_case = words[0] + ''.join(word.capitalize() for word in words[1:])  \n",
    "    return camel_case\n",
    "\n",
    "snake_str = \"hello_world_example\"\n",
    "camel_str = snake_to_camel(snake_str)\n",
    "print(camel_str)      "
   ]
  },
  {
   "cell_type": "code",
   "execution_count": 6,
   "metadata": {},
   "outputs": [
    {
     "name": "stdout",
     "output_type": "stream",
     "text": [
      "['Hello', 'World', 'Example']\n"
     ]
    }
   ],
   "source": [
    "import re  \n",
    "def split_at_uppercase(s):\n",
    "    return re.findall(r'[A-Z][a-z]*', s)  \n",
    "\n",
    "\n",
    "text = \"HelloWorldExample\"\n",
    "result = split_at_uppercase(text)\n",
    "print(result)  \n"
   ]
  },
  {
   "cell_type": "code",
   "execution_count": 5,
   "metadata": {},
   "outputs": [
    {
     "name": "stdout",
     "output_type": "stream",
     "text": [
      "Hello World Example\n"
     ]
    }
   ],
   "source": [
    "import re\n",
    "\n",
    "def insert_spaces(s):\n",
    "    return re.sub(r'([a-z])([A-Z])', r'\\1 \\2', s)\n",
    "\n",
    "text = \"HelloWorldExample\"\n",
    "result = insert_spaces(text)\n",
    "print(result)  \n"
   ]
  },
  {
   "cell_type": "code",
   "execution_count": 15,
   "metadata": {},
   "outputs": [
    {
     "name": "stdout",
     "output_type": "stream",
     "text": [
      "camel_case_to_snake\n"
     ]
    }
   ],
   "source": [
    "import re\n",
    "\n",
    "def camel_to_snake(s):\n",
    "    return re.sub(r'([a-z])([A-Z])', r'\\1_\\2', s).lower()\n",
    "\n",
    "\n",
    "text = \"CamelCaseToSnake\"\n",
    "result = camel_to_snake(text)\n",
    "print(result)  \n",
    "\n",
    "\n"
   ]
  }
 ],
 "metadata": {
  "kernelspec": {
   "display_name": "Python 3",
   "language": "python",
   "name": "python3"
  },
  "language_info": {
   "codemirror_mode": {
    "name": "ipython",
    "version": 3
   },
   "file_extension": ".py",
   "mimetype": "text/x-python",
   "name": "python",
   "nbconvert_exporter": "python",
   "pygments_lexer": "ipython3",
   "version": "3.11.9"
  }
 },
 "nbformat": 4,
 "nbformat_minor": 2
}
