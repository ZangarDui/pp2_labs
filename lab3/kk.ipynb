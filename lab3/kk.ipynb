{
 "cells": [
  {
   "cell_type": "code",
   "execution_count": 3,
   "metadata": {},
   "outputs": [
    {
     "name": "stdout",
     "output_type": "stream",
     "text": [
      "tablgan san 4\n"
     ]
    }
   ],
   "source": [
    "def arip_sanay(text):\n",
    "    count = 0 \n",
    "    for i in range(len(text)):\n",
    "        if text[i] == \"a\" :\n",
    "            count += 1\n",
    "    return count\n",
    "\n",
    "user_input = input(\"joldy engiz:\")\n",
    "print(\"tablgan san\" , arip_sanay(user_input))\n"
   ]
  },
  {
   "cell_type": "code",
   "execution_count": 9,
   "metadata": {},
   "outputs": [
    {
     "name": "stdout",
     "output_type": "stream",
     "text": [
      "points: 2 , 3\n",
      "points: 8 , 5\n",
      "wewy: 4.0\n"
     ]
    }
   ],
   "source": [
    "import math\n",
    "class point:\n",
    "    def __init__(self, x , y):\n",
    "        self.x = x\n",
    "        self.y = y \n",
    "\n",
    "    def show(self):\n",
    "        print(f\"points: {self.x} , {self.y}\")\n",
    "\n",
    "    def new_p(self, new_x , new_y):\n",
    "        self.x = new_x\n",
    "        self.y = new_y\n",
    "    def wewy(self , baska):\n",
    "        return math.sqrt((self.x-baska.x) ** 2 + (self.y - baska.y) ** 2)\n",
    "    \n",
    "\n",
    "p1 = point(2 ,3)\n",
    "p2 = point(4 , 5)\n",
    "\n",
    "p1.show()\n",
    "p1.new_p(8 , 5)\n",
    "p1.show()\n",
    "print(f\"wewy: {p1.wewy(p2)}\")"
   ]
  },
  {
   "cell_type": "code",
   "execution_count": null,
   "metadata": {},
   "outputs": [
    {
     "name": "stdout",
     "output_type": "stream",
     "text": [
      "hello, what is your name!\n"
     ]
    },
    {
     "name": "stdout",
     "output_type": "stream",
     "text": [
      "Well, zangar, I am thinking of a number between 1 and 20.\n",
      "tanda:\n",
      "azrak tanda \n",
      "tanda:\n",
      "azrak tanda \n",
      "tanda:\n",
      "kop tanda:\n",
      "tanda:\n",
      "azrak tanda \n",
      "tanda:\n",
      "azrak tanda \n",
      "tanda:\n",
      "azrak tanda \n",
      "tanda:\n",
      "azrak tanda \n",
      "tanda:\n",
      "zaksy zumys zangar sizge taby uwin 8 ketti\n"
     ]
    }
   ],
   "source": [
    "import random\n",
    "def sss():\n",
    "    print(\"hello, what is your name!\")\n",
    "    name = input()\n",
    "    print(f\"Well, {name}, I am thinking of a number between 1 and 20.\")\n",
    "\n",
    "    tandagan_san = random.randint(1, 20)\n",
    "    tandaular = 0 \n",
    "\n",
    "    while True:\n",
    "        print(\"tanda:\")\n",
    "        san = int(input())\n",
    "        tandaular += 1 \n",
    "\n",
    "        if san > tandagan_san:\n",
    "            print(\"azrak  \")\n",
    "        if san < tandagan_san:\n",
    "            print(\"kop \")\n",
    "        if san == tandagan_san:\n",
    "            print(f\"zaksy zumys {name} sizge taby uwin {tandaular} ketti\")\n",
    "            break\n",
    "sss()"
   ]
  },
  {
   "cell_type": "code",
   "execution_count": 15,
   "metadata": {},
   "outputs": [
    {
     "name": "stdout",
     "output_type": "stream",
     "text": [
      "*\n",
      "****\n",
      "******\n"
     ]
    }
   ],
   "source": [
    "def hist(san):\n",
    "    for i in san:\n",
    "        print(\"*\" * i)\n",
    "\n",
    "hist([1 , 4 , 6])"
   ]
  },
  {
   "cell_type": "code",
   "execution_count": 17,
   "metadata": {},
   "outputs": [
    {
     "name": "stdout",
     "output_type": "stream",
     "text": [
      "True\n",
      "True\n",
      "False\n",
      "True\n"
     ]
    }
   ],
   "source": [
    "def polin(pol):\n",
    "    ss = pol.lower().replace(\" \",\"\")\n",
    "    return ss == ss[:: -1]\n",
    "\n",
    "print(polin(\"madam\"))  # → True\n",
    "print( polin(\"racecar\"))  # → True\n",
    "print(polin(\"hello\"))  # → False\n",
    "print(polin(\"Was it a car or a cat I saw\"))"
   ]
  },
  {
   "cell_type": "code",
   "execution_count": 22,
   "metadata": {},
   "outputs": [
    {
     "name": "stdout",
     "output_type": "stream",
     "text": [
      "[1, 2, 3, 4, 5]\n"
     ]
    }
   ],
   "source": [
    "def lll(san):\n",
    "    fr= []\n",
    "    for i in san:\n",
    "        if i not in fr:\n",
    "            fr.append(i)\n",
    "    return fr\n",
    "        \n",
    "\n",
    "print (lll([1 , 2, 2 ,2 ,3 , 4 ,5]))\n",
    "        "
   ]
  },
  {
   "cell_type": "code",
   "execution_count": 32,
   "metadata": {},
   "outputs": [
    {
     "name": "stdout",
     "output_type": "stream",
     "text": [
      "[1, 2, 3, 3, 3, 4, 4, 4, 5, 5, 6, 8, 333]\n"
     ]
    }
   ],
   "source": [
    "def bubble_sort(arr):\n",
    "    n =  len(arr)\n",
    "    for i in range(n-1):\n",
    "        swapped = False\n",
    "\n",
    "        for j in range(n - 1 -i):\n",
    "           if arr[j] > arr[j+1]:\n",
    "            arr[j] , arr[j+1] = arr[j+1] , arr[j]\n",
    "            swapped = True\n",
    "\n",
    "        if not swapped:\n",
    "           break\n",
    "        \n",
    "arr = [5, 3, 2, 1 ,8,6,5,4,4,4,3,3,333]\n",
    "bubble_sort(arr)\n",
    "print(arr)"
   ]
  },
  {
   "cell_type": "code",
   "execution_count": 5,
   "metadata": {},
   "outputs": [
    {
     "name": "stdout",
     "output_type": "stream",
     "text": [
      "True\n"
     ]
    }
   ],
   "source": [
    "def sss(san):\n",
    "    for i in san:\n",
    "        if san.count(i) == 3 :\n",
    "            return True\n",
    "    return False\n",
    "\n",
    "print(sss([1,2,3,3,4,5,3]))"
   ]
  },
  {
   "cell_type": "code",
   "execution_count": 6,
   "metadata": {},
   "outputs": [
    {
     "name": "stdout",
     "output_type": "stream",
     "text": [
      "[2, 3, 5]\n"
     ]
    }
   ],
   "source": [
    "sss = lambda numbers:list(filter(lambda x : x > 1 and all(x % i != 0 for i in range(2 , int(x**0.5)+1)), numbers))\n",
    "\n",
    "print(sss([1,2,3,4,5,6]))"
   ]
  },
  {
   "cell_type": "code",
   "execution_count": 11,
   "metadata": {},
   "outputs": [
    {
     "name": "stdout",
     "output_type": "stream",
     "text": [
      "True\n"
     ]
    }
   ],
   "source": [
    "def ggg(san):\n",
    "    for i in range(len(san)-1):\n",
    "        if san[i] == san[i+1]:\n",
    "            return True\n",
    "    return False \n",
    "\n",
    "print(ggg([1,2,3,3,4]))\n",
    "        \n",
    "    "
   ]
  },
  {
   "cell_type": "code",
   "execution_count": 13,
   "metadata": {},
   "outputs": [
    {
     "name": "stdout",
     "output_type": "stream",
     "text": [
      "True\n",
      "False\n"
     ]
    }
   ],
   "source": [
    "ddd = lambda s  : any(s[i] == s[i+1] == s[i+2] for i in range(len(s)-2))\n",
    "\n",
    "print(ddd([1,2,2,2,3,3,4]))\n",
    "print(ddd([1,2,3,3,4,5]))"
   ]
  },
  {
   "cell_type": "code",
   "execution_count": 18,
   "metadata": {},
   "outputs": [
    {
     "name": "stdout",
     "output_type": "stream",
     "text": [
      "zzz [1, 2, 3, 4, 4, 5, 65]\n"
     ]
    }
   ],
   "source": [
    "def bubble_sart(arr):\n",
    "    n = len(arr)\n",
    "\n",
    "    for i in range(n-1):\n",
    "        swapped = False \n",
    "\n",
    "        for j in range(n - i -1):\n",
    "          if arr[j] > arr[j+1]:\n",
    "            arr[j], arr[j+1] = arr[j+1] , arr[j]\n",
    "            swapped = True\n",
    "\n",
    "        if not swapped:\n",
    "           break\n",
    "\n",
    "arr = ([3,5,2,4,65,4,1])\n",
    "bubble_sart(arr)\n",
    "print(\"zzz\", arr) \n",
    "\n"
   ]
  },
  {
   "cell_type": "code",
   "execution_count": 20,
   "metadata": {},
   "outputs": [
    {
     "name": "stdout",
     "output_type": "stream",
     "text": [
      "True\n"
     ]
    }
   ],
   "source": [
    "solve = lambda x : any(x[i] == 3 and x[i+1]==3 for i  in range(len(x)))\n",
    "\n",
    "\n",
    "print(solve([1,2,3,4,5,5,3,3]))"
   ]
  },
  {
   "cell_type": "code",
   "execution_count": 22,
   "metadata": {},
   "outputs": [
    {
     "name": "stdout",
     "output_type": "stream",
     "text": [
      "268.082573106329\n"
     ]
    }
   ],
   "source": [
    "import math\n",
    "\n",
    "sss = lambda x: (4/3) * math.pi * (x**3)\n",
    "\n",
    "user_input = float(input(\"radius: \"))  # 🔹 Сан ретінде түрлендіру керек\n",
    "print(sss(user_input))  # 🔹 Енді x - сан болып өңделеді\n"
   ]
  },
  {
   "cell_type": "code",
   "execution_count": 24,
   "metadata": {},
   "outputs": [
    {
     "name": "stdout",
     "output_type": "stream",
     "text": [
      "False\n",
      "True\n",
      "True\n"
     ]
    }
   ],
   "source": [
    "polindrom = lambda soz : (s:= soz.lower().replace(\" \", \" \") == soz[::1])\n",
    "\n",
    "print(polindrom(\"Madam\"))\n",
    "print(polindrom(\"wow\"))\n",
    "print(polindrom(\"papan\"))\n"
   ]
  },
  {
   "cell_type": "code",
   "execution_count": 30,
   "metadata": {},
   "outputs": [
    {
     "name": "stdout",
     "output_type": "stream",
     "text": [
      "0\n",
      "1\n",
      "2\n",
      "3\n",
      "4\n",
      "5\n",
      "6\n",
      "7\n",
      "8\n",
      "[2, 3, 6, 4, 8, 35, 31, 23, 53, 23]\n"
     ]
    },
    {
     "ename": "",
     "evalue": "",
     "output_type": "error",
     "traceback": [
      "\u001b[1;31mThe Kernel crashed while executing code in the current cell or a previous cell. \n",
      "\u001b[1;31mPlease review the code in the cell(s) to identify a possible cause of the failure. \n",
      "\u001b[1;31mClick <a href='https://aka.ms/vscodeJupyterKernelCrash'>here</a> for more info. \n",
      "\u001b[1;31mView Jupyter <a href='command:jupyter.viewOutput'>log</a> for further details."
     ]
    }
   ],
   "source": [
    "def selection_sort(arr):\n",
    "    n = len(arr)\n",
    "\n",
    "    for i in range(n-1):\n",
    "        min_index= i\n",
    "        print(min_index)\n",
    "        for j in range(n+1,n):\n",
    "            if arr[j] < arr[min_index]:\n",
    "                min_index = j\n",
    "\n",
    "        arr[i],arr[min_index] = arr[min_index] , arr[i]\n",
    "\n",
    "\n",
    "arr = [2,3,6,4,8,35,31,23,53,23]\n",
    "selection_sort(arr)\n",
    "print(arr)\n",
    "\n"
   ]
  },
  {
   "cell_type": "code",
   "execution_count": 29,
   "metadata": {},
   "outputs": [
    {
     "name": "stdout",
     "output_type": "stream",
     "text": [
      "Ақтөс айтады: гав-гав\n",
      "Марғау айтады: мыр-мыр\n"
     ]
    }
   ],
   "source": [
    "class Animal: \n",
    "    def __init__(self, name):\n",
    "        self.name = name\n",
    "\n",
    "    def speak(self):\n",
    "        return \"дыбыс шығарады\"\n",
    "    \n",
    "class Dog(Animal):\n",
    "    def speak(self):\n",
    "        return \"гав-гав\"\n",
    "    \n",
    "class Cat(Animal):\n",
    "    def speak(self):\n",
    "        return \"мыр-мыр\"\n",
    "          \n",
    "dog = Dog(\"Ақтөс\")\n",
    "cat = Cat(\"Марғау\")\n",
    "\n",
    "print(dog.name, \"айтады:\", dog.speak())  # Ақтөс айтады: гав-гав\n",
    "print(cat.name, \"айтады:\", cat.speak())  # Марғау айтады: мыр-мыр\n"
   ]
  }
 ],
 "metadata": {
  "kernelspec": {
   "display_name": "Python 3",
   "language": "python",
   "name": "python3"
  },
  "language_info": {
   "codemirror_mode": {
    "name": "ipython",
    "version": 3
   },
   "file_extension": ".py",
   "mimetype": "text/x-python",
   "name": "python",
   "nbconvert_exporter": "python",
   "pygments_lexer": "ipython3",
   "version": "3.11.9"
  }
 },
 "nbformat": 4,
 "nbformat_minor": 2
}
