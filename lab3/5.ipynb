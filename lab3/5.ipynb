{
 "cells": [
  {
   "cell_type": "code",
   "execution_count": 8,
   "metadata": {},
   "outputs": [
    {
     "name": "stdout",
     "output_type": "stream",
     "text": [
      "jana_sozder\n",
      "fer\n",
      "fre\n",
      "efr\n",
      "erf\n",
      "rfe\n",
      "ref\n"
     ]
    }
   ],
   "source": [
    "def generate_permutations(s , current=\"\"):\n",
    "    if not s:\n",
    "        print(current)\n",
    "        return\n",
    "    \n",
    "    for i in range(len(s)):\n",
    "        new_s=s[:i] + s[i+1:]\n",
    "        generate_permutations(new_s, current + s[i])\n",
    "\n",
    "user_input=input(\"soz_engz\")\n",
    "print(\"jana_sozder\")\n",
    "generate_permutations(user_input)"
   ]
  },
  {
   "cell_type": "code",
   "execution_count": 2,
   "metadata": {},
   "outputs": [
    {
     "name": "stdout",
     "output_type": "stream",
     "text": [
      "barl:\n",
      "SAD\n",
      "SDA\n",
      "ASD\n",
      "ADS\n",
      "DSA\n",
      "DAS\n"
     ]
    }
   ],
   "source": [
    "from itertools import permutations\n",
    "\n",
    "def print_permutations(string):\n",
    "    tizim = permutations(string)\n",
    "    for i in tizim:\n",
    "        print(\"\".join(i))\n",
    "\n",
    "user_input=input(\"joldy engiz:\")\n",
    "print(\"barl:\")\n",
    "print_permutations(user_input)\n"
   ]
  }
 ],
 "metadata": {
  "kernelspec": {
   "display_name": "Python 3",
   "language": "python",
   "name": "python3"
  },
  "language_info": {
   "codemirror_mode": {
    "name": "ipython",
    "version": 3
   },
   "file_extension": ".py",
   "mimetype": "text/x-python",
   "name": "python",
   "nbconvert_exporter": "python",
   "pygments_lexer": "ipython3",
   "version": "3.11.9"
  }
 },
 "nbformat": 4,
 "nbformat_minor": 2
}
