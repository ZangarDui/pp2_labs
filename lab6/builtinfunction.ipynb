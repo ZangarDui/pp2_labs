{
 "cells": [
  {
   "cell_type": "code",
   "execution_count": null,
   "metadata": {},
   "outputs": [
    {
     "name": "stdout",
     "output_type": "stream",
     "text": [
      "Product of numbers: 120\n"
     ]
    }
   ],
   "source": [
    "from functools import reduce\n",
    "\n",
    "def ddd(lst):\n",
    "    return reduce(lambda x, y: x * y, lst)\n",
    "\n",
    "\n",
    "numbers = list(map(int, input(\"Enter different numbers: \").split()))\n",
    "\n",
    "print(\"jauap:\", ddd(numbers))\n"
   ]
  },
  {
   "cell_type": "code",
   "execution_count": 2,
   "metadata": {},
   "outputs": [
    {
     "name": "stdout",
     "output_type": "stream",
     "text": [
      "bas arip sany:  3\n",
      "kiwi arip sany:  29\n"
     ]
    }
   ],
   "source": [
    "def sanau(string):\n",
    "    upper_count = sum(1 for char in string if char.isupper())\n",
    "    lower_count = sum(1 for char in string if char.islower())\n",
    "    return upper_count , lower_count\n",
    "\n",
    "text = input(\"Jol engz: \")\n",
    "upper , lower = sanau(text)\n",
    "print(\"bas arip sany: \" , upper)\n",
    "print(\"kiwi arip sany: \" , lower)"
   ]
  },
  {
   "cell_type": "code",
   "execution_count": 3,
   "metadata": {},
   "outputs": [
    {
     "name": "stdout",
     "output_type": "stream",
     "text": [
      "Жол палиндром болып табылады.\n"
     ]
    }
   ],
   "source": [
    "def ggg(string):\n",
    "    return string == string[::-1]\n",
    "\n",
    "text = input(\"joldy engz: \").strip().lower()\n",
    " \n",
    "if ggg(text):\n",
    "    print(\"Жол палиндром болып табылады.\")\n",
    "else:\n",
    "    print(\"Жол палиндром емес.\")\n"
   ]
  },
  {
   "cell_type": "code",
   "execution_count": 4,
   "metadata": {},
   "outputs": [
    {
     "name": "stdout",
     "output_type": "stream",
     "text": [
      "2100 millis keiun 25100.0 sanynyn kvadrat tubiri : 158.42979517754858\n"
     ]
    }
   ],
   "source": [
    "import math\n",
    "import time \n",
    "\n",
    "def ddd(number,u):\n",
    "    time.sleep(u/1000)\n",
    "    return math.sqrt(number)\n",
    "\n",
    "number = float(input(\"kvd engz: \"))\n",
    "u = int(input(\"u engz: \"))\n",
    "\n",
    "h = ddd(number, u)\n",
    "print(f\"{u} millis keiun {number} sanynyn kvadrat tubiri : {h}\")"
   ]
  },
  {
   "cell_type": "code",
   "execution_count": null,
   "metadata": {},
   "outputs": [],
   "source": [
    "def all_elements_true(tpl):\n",
    "    return all(tpl)\n",
    "\n",
    "tuple1 = (True,True,True)\n",
    "tuple2 = (True, False, True)\n",
    "tuple3 = (1, 2, 3)  \n",
    "tuple4 = (0, 1, 2)\n",
    "\n",
    "print(all_elements_true(tuple1))  \n",
    "print(all_elements_true(tuple2))  \n",
    "print(all_elements_true(tuple3))  \n",
    "\n",
    "print(all_elements_true(tuple4))"
   ]
  }
 ],
 "metadata": {
  "kernelspec": {
   "display_name": "Python 3",
   "language": "python",
   "name": "python3"
  },
  "language_info": {
   "codemirror_mode": {
    "name": "ipython",
    "version": 3
   },
   "file_extension": ".py",
   "mimetype": "text/x-python",
   "name": "python",
   "nbconvert_exporter": "python",
   "pygments_lexer": "ipython3",
   "version": "3.11.9"
  }
 },
 "nbformat": 4,
 "nbformat_minor": 2
}
